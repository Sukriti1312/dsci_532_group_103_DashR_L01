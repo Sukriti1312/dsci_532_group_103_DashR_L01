{
 "cells": [
  {
   "cell_type": "code",
   "execution_count": 1,
   "metadata": {},
   "outputs": [
    {
     "name": "stderr",
     "output_type": "stream",
     "text": [
      "-- \u001b[1mAttaching packages\u001b[22m --------------------------------------- tidyverse 1.2.1 --\n",
      "\n",
      "\u001b[32mv\u001b[39m \u001b[34mggplot2\u001b[39m 3.2.1     \u001b[32mv\u001b[39m \u001b[34mpurrr  \u001b[39m 0.3.3\n",
      "\u001b[32mv\u001b[39m \u001b[34mtibble \u001b[39m 2.1.3     \u001b[32mv\u001b[39m \u001b[34mdplyr  \u001b[39m 0.8.3\n",
      "\u001b[32mv\u001b[39m \u001b[34mtidyr  \u001b[39m 1.0.0     \u001b[32mv\u001b[39m \u001b[34mstringr\u001b[39m 1.4.0\n",
      "\u001b[32mv\u001b[39m \u001b[34mreadr  \u001b[39m 1.3.1     \u001b[32mv\u001b[39m \u001b[34mforcats\u001b[39m 0.4.0\n",
      "\n",
      "-- \u001b[1mConflicts\u001b[22m ------------------------------------------ tidyverse_conflicts() --\n",
      "\u001b[31mx\u001b[39m \u001b[34mdplyr\u001b[39m::\u001b[32mfilter()\u001b[39m masks \u001b[34mstats\u001b[39m::filter()\n",
      "\u001b[31mx\u001b[39m \u001b[34mdplyr\u001b[39m::\u001b[32mlag()\u001b[39m    masks \u001b[34mstats\u001b[39m::lag()\n",
      "\n",
      "\n",
      "Attaching package: 'gridExtra'\n",
      "\n",
      "\n",
      "The following object is masked from 'package:dplyr':\n",
      "\n",
      "    combine\n",
      "\n",
      "\n"
     ]
    }
   ],
   "source": [
    "library(tidyverse)\n",
    "library(repr)\n",
    "library(ggplot2)\n",
    "library(broom)\n",
    "library(gridExtra)"
   ]
  },
  {
   "cell_type": "code",
   "execution_count": 46,
   "metadata": {},
   "outputs": [
    {
     "name": "stderr",
     "output_type": "stream",
     "text": [
      "Parsed with column specification:\n",
      "cols(\n",
      "  state = \u001b[31mcol_character()\u001b[39m,\n",
      "  median_household_income = \u001b[32mcol_double()\u001b[39m,\n",
      "  share_unemployed_seasonal = \u001b[32mcol_double()\u001b[39m,\n",
      "  share_population_in_metro_areas = \u001b[32mcol_double()\u001b[39m,\n",
      "  share_population_with_high_school_degree = \u001b[32mcol_double()\u001b[39m,\n",
      "  share_non_citizen = \u001b[32mcol_double()\u001b[39m,\n",
      "  share_white_poverty = \u001b[32mcol_double()\u001b[39m,\n",
      "  gini_index = \u001b[32mcol_double()\u001b[39m,\n",
      "  share_non_white = \u001b[32mcol_double()\u001b[39m,\n",
      "  share_voters_voted_trump = \u001b[32mcol_double()\u001b[39m,\n",
      "  hate_crimes_per_100k_splc = \u001b[32mcol_double()\u001b[39m,\n",
      "  avg_hatecrimes_per_100k_fbi = \u001b[32mcol_double()\u001b[39m\n",
      ")\n",
      "\n"
     ]
    },
    {
     "data": {
      "image/png": "[encoded data removed]",
      "text/plain": [
       "plot without title"
      ]
     },
     "metadata": {
      "image/png": {
       "height": 300,
       "width": 600
      },
      "text/plain": {
       "height": 300,
       "width": 600
      }
     },
     "output_type": "display_data"
    }
   ],
   "source": [
    "\n",
    "chart_2 <- function(x_val = 'gini_index'){\n",
    "    \n",
    "    df = read_csv('../data/hate_crimes.csv') %>% \n",
    "        select(c(x_val,'avg_hatecrimes_per_100k_fbi','state')) %>% \n",
    "        drop_na()\n",
    "    \n",
    "    df = tibble('x'= df[[1]], 'y' = df[[2]], 'state' = df[[3]])\n",
    "\n",
    "#    Plot the data points on an interactive axis\n",
    "    type_dict = tibble('gini_index' = 'Income Disparity',\n",
    "                        'share_unemployed_seasonal'=  'Unemployment rate seasonal',\n",
    "                        'share_white_poverty'=  'White people poverty rate',\n",
    "                        'share_non_citizen' = 'Percentage of Non-citizens',\n",
    "                        'share_population_in_metro_areas' = 'Percentage of people in metro cities')\n",
    "    \n",
    "    model = lm(y ~ x, df)\n",
    "\n",
    "    \n",
    "    options(repr.plot.width=10, repr.plot.height=5)\n",
    "    plot = ggplot(df, aes(x, y)) +\n",
    "              geom_point(alpha = 0.6) +\n",
    "              geom_smooth(method = \"lm\", formula = y ~ x) +\n",
    "              labs(title = paste(\"Variation of hate crimes across\",type_dict[[x_val]],sep = ' '),\n",
    "                   x = type_dict[[x_val]],\n",
    "                   y = \"Average annual hate crime per 100K people\") +\n",
    "              geom_text(aes(x = -Inf, y = -Inf), \n",
    "                            label = paste(\"p-value of slope = \",round(tidy(model)[[2,'p.value']],4)), \n",
    "                            hjust = -2, \n",
    "                            vjust   = -23,\n",
    "                            size = 5) +\n",
    "              theme(plot.title = element_text(face = \"bold\", size = 12),\n",
    "                    axis.title = element_text(face = \"bold\", size = 12)) \n",
    "                                \n",
    "\n",
    "    return(plot)\n",
    "\n",
    "}\n",
    "  \n",
    "chart_2('share_white_poverty')"
   ]
  },
  {
   "cell_type": "code",
   "execution_count": null,
   "metadata": {},
   "outputs": [],
   "source": []
  }
 ],
 "metadata": {
  "kernelspec": {
   "display_name": "R",
   "language": "R",
   "name": "ir"
  },
  "language_info": {
   "codemirror_mode": "r",
   "file_extension": ".r",
   "mimetype": "text/x-r-source",
   "name": "R",
   "pygments_lexer": "r",
   "version": "3.6.1"
  }
 },
 "nbformat": 4,
 "nbformat_minor": 2
}
